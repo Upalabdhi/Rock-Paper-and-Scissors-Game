{
 "cells": [
  {
   "cell_type": "code",
   "execution_count": 1,
   "id": "7599eb7b-9da0-425e-8c01-cf4636ba32b9",
   "metadata": {},
   "outputs": [
    {
     "name": "stdin",
     "output_type": "stream",
     "text": [
      "enter user 1 choice(rock, paper, scissor): rock\n"
     ]
    },
    {
     "name": "stdout",
     "output_type": "stream",
     "text": [
      "User 1 chose: rock\n",
      "Computer chose: rock\n",
      "it is a tie, Retry!!\n"
     ]
    }
   ],
   "source": [
    "\n",
    "import random\n",
    "user1=input('enter user 1 choice(rock, paper, scissor):')\n",
    "user2=random.choice(['rock','paper','scissor'])\n",
    "\n",
    "if user1== user2:\n",
    "    print('User 1 chose:', user1)\n",
    "    print('Computer chose:', user2)\n",
    "    print('it is a tie, Retry!!')\n",
    "elif user1=='rock' and user2=='paper':\n",
    "    print('User 1 chose:',user1)\n",
    "    print('computer chose:', user2)\n",
    "    print('paper wins hence computer wins!!')\n",
    "elif user1=='paper' and user2=='rock':\n",
    "    print('User 1 chose:',user1)\n",
    "    print('computer chose:', user2)\n",
    "    print('paper wins hence user1 wins!!')\n",
    "elif user1=='rock' and user2=='scissor':\n",
    "    print('User 1 chose:',user1)\n",
    "    print('computer chose:', user2)\n",
    "    print('rock wins hence user1 wins!!')\n",
    "elif user1=='scissor' and user2=='rock':\n",
    "    print('User 1 chose:',user1)\n",
    "    print('computer chose:', user2)\n",
    "    print('rock wins hence computer wins!!')\n",
    "elif user1=='scissor' and user2=='paper':\n",
    "    print('User 1 chose:',user1)\n",
    "    print('computer chose:', user2)\n",
    "    print('scissor wins hence user1 wins!!')\n",
    "elif user1=='paper' and user2=='scissor':\n",
    "    print('User 1 chose:',user1)\n",
    "    print('computer chose:', user2)\n",
    "    print('scissor wins hence computer wins!!')\n",
    "else:\n",
    "    print('Invalid Number')\n"
   ]
  }
 ],
 "metadata": {
  "kernelspec": {
   "display_name": "Python 3 (ipykernel)",
   "language": "python",
   "name": "python3"
  },
  "language_info": {
   "codemirror_mode": {
    "name": "ipython",
    "version": 3
   },
   "file_extension": ".py",
   "mimetype": "text/x-python",
   "name": "python",
   "nbconvert_exporter": "python",
   "pygments_lexer": "ipython3",
   "version": "3.12.4"
  }
 },
 "nbformat": 4,
 "nbformat_minor": 5
}
